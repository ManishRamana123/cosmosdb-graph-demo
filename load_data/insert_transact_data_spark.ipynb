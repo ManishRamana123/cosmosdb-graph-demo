{
  "cells": [
    {
      "cell_type": "code",
      "execution_count": null,
      "metadata": {},
      "outputs": [],
      "source": [
        "import os\n",
        "import uuid\n",
        "from notebookutils import mssparkutils\n",
        "from pyspark.sql import DataFrame\n",
        "import pyspark.sql.functions as F\n",
        "from pyspark.sql.types import StringType,BooleanType\n",
        "# from graphframes import *\n",
        "\n",
        "f_uuid = F.udf(lambda: str(uuid.uuid4()), StringType())\n",
        "f_bool = F.udf(lambda: True, BooleanType())\n"
      ]
    },
    {
      "cell_type": "code",
      "execution_count": null,
      "metadata": {
        "jupyter": {
          "outputs_hidden": false,
          "source_hidden": false
        },
        "nteract": {
          "transient": {
            "deleting": false
          }
        }
      },
      "outputs": [],
      "source": [
        "mssparkutils.fs.mount( \n",
        "    \"abfss://bronze@ssattirajudemorgstg.dfs.core.windows.net\", \n",
        "    \"/mydata\", \n",
        "    {\"linkedService\":\"ssattiraju-synapse-01-WorkspaceDefaultStorage\"} \n",
        ")\n",
        "job_id = mssparkutils.env.getJobId()\n",
        "bronze_mount_point = f\"synfs:/{job_id}/mydata/archive.zip\""
      ]
    },
    {
      "cell_type": "code",
      "execution_count": null,
      "metadata": {
        "jupyter": {
          "outputs_hidden": false,
          "source_hidden": false
        },
        "nteract": {
          "transient": {
            "deleting": false
          }
        }
      },
      "outputs": [],
      "source": [
        "cosmosEndpoint = \"https://xxxxxx.documents.azure.com:443/\"\n",
        "cosmosMasterKey = \"xxxxxxx\"\n",
        "cosmosDatabaseName = \"xxxxxxx\"\n",
        "cosmosContainerName = \"xxxxxxx\"\n",
        "\n",
        "cfg = {\n",
        "  \"spark.cosmos.accountEndpoint\" : cosmosEndpoint,\n",
        "  \"spark.cosmos.accountKey\" : cosmosMasterKey,\n",
        "  \"spark.cosmos.database\" : cosmosDatabaseName,\n",
        "  \"spark.cosmos.container\" : cosmosContainerName,\n",
        "}\n",
        "# Configure Catalog Api to be used\n",
        "spark.conf.set(\"spark.sql.catalog.cosmosCatalog\", \"com.azure.cosmos.spark.CosmosCatalog\")\n",
        "spark.conf.set(\"spark.sql.catalog.cosmosCatalog.spark.cosmos.accountEndpoint\", cosmosEndpoint)\n",
        "spark.conf.set(\"spark.sql.catalog.cosmosCatalog.spark.cosmos.accountKey\", cosmosMasterKey)\n",
        "spark.conf.set(\"spark.cosmos.throughputControl.enabled\",True)\n",
        "spark.conf.set(\"spark.cosmos.throughputControl.targetThroughput\",20000)\n",
        "\n",
        "def write_to_cosmos_graph(df: DataFrame, data_type: str, save: bool = False):\n",
        "    if (save):\n",
        "        df.write.format(\"delta\").mode(\"overwrite\").option(\"overwriteSchema\", \"true\").save(f\"synfs:/{job_id}/mydata/{data_type}/\")\n",
        "        \n",
        "    df.write\\\n",
        "   .format(\"cosmos.oltp\")\\\n",
        "   .options(**cfg)\\\n",
        "   .mode(\"APPEND\")\\\n",
        "   .save()"
      ]
    },
    {
      "cell_type": "code",
      "execution_count": null,
      "metadata": {
        "jupyter": {
          "outputs_hidden": false,
          "source_hidden": false
        },
        "nteract": {
          "transient": {
            "deleting": false
          }
        }
      },
      "outputs": [],
      "source": [
        "# Read from existing path\n",
        "# edge_mount = f\"synfs:/{job_id}/mydata/edges\"\n",
        "# vertices_mount = f\"synfs:/{job_id}/mydata/vertices\"\n",
        "raw_data = spark.read.format('delta').load(bronze_mount_point).distinct()"
      ]
    },
    {
      "cell_type": "code",
      "execution_count": 5,
      "metadata": {
        "jupyter": {
          "outputs_hidden": false,
          "source_hidden": false
        },
        "nteract": {
          "transient": {
            "deleting": false
          }
        }
      },
      "outputs": [
        {
          "data": {
            "application/vnd.livy.statement-meta+json": {
              "execution_finish_time": "2022-01-10T11:39:41.6053286Z",
              "execution_start_time": "2022-01-10T11:39:31.1553484Z",
              "livy_statement_state": "available",
              "queued_time": "2022-01-10T11:38:03.4848553Z",
              "session_id": 18,
              "session_start_time": null,
              "spark_pool": "sparkpool01",
              "state": "finished",
              "statement_id": 5
            },
            "text/plain": [
              "StatementMeta(sparkpool01, 18, 5, Finished, Available)"
            ]
          },
          "metadata": {},
          "output_type": "display_data"
        },
        {
          "name": "stdout",
          "output_type": "stream",
          "text": [
            "+----+--------+---------+-----------+-------------+--------------+-----------+--------------+--------------+-------+--------------+\n",
            "|step|    type|   amount|   nameOrig|oldbalanceOrg|newbalanceOrig|   nameDest|oldbalanceDest|newbalanceDest|isFraud|isFlaggedFraud|\n",
            "+----+--------+---------+-----------+-------------+--------------+-----------+--------------+--------------+-------+--------------+\n",
            "| 156| CASH_IN| 256203.2|C1519792972|1.795038527E7| 1.820658846E7|C1793677055|     263485.24|       7282.05|      0|             0|\n",
            "| 156| CASH_IN|239326.27| C945424670|2.222391698E7| 2.246324325E7|C1853417494|     549020.76|     309694.49|      0|             0|\n",
            "| 156|CASH_OUT|255774.06|C1941980439|      61334.0|           0.0|C2082577597|           0.0|     255774.06|      0|             0|\n",
            "| 156| CASH_IN|101050.92| C487010990|       9987.0|     111037.92| C729448360|      38486.82|           0.0|      0|             0|\n",
            "| 156|TRANSFER|416825.34|C1123901508|          0.0|           0.0| C741545674|     736063.31|    1152888.65|      0|             0|\n",
            "| 156| CASH_IN|291693.32|C2042115589|      24727.0|     316420.32|C1897374746|           0.0|           0.0|      0|             0|\n",
            "| 156|CASH_OUT|527494.46|C1105615753|          0.0|           0.0| C762348120|    1811198.37|    2338692.83|      0|             0|\n",
            "| 156|CASH_OUT| 34338.56|C1971821954|          0.0|           0.0| C578815102|      86797.11|     121135.68|      0|             0|\n",
            "| 156|CASH_OUT|176913.58|C1909913059|     101763.0|           0.0|C1648846292|    3109249.46|    3286163.04|      0|             0|\n",
            "| 156| PAYMENT| 13409.03| C988968921|          0.0|           0.0|M2018675632|           0.0|           0.0|      0|             0|\n",
            "| 156|CASH_OUT| 14216.24| C636946653|          0.0|           0.0|C1368076471|    2909427.84|    2923644.09|      0|             0|\n",
            "| 156|CASH_OUT|  33806.4| C307926583|          0.0|           0.0| C882094581|     988415.68|    1022222.08|      0|             0|\n",
            "| 156|CASH_OUT|317954.53|C1169731673|     348240.0|      30285.47|C1654260097|     408630.98|     726585.51|      0|             0|\n",
            "| 156|CASH_OUT| 53983.44| C789573338|          0.0|           0.0| C698389523|      67313.13|     121296.57|      0|             0|\n",
            "| 156| PAYMENT|   797.11|C1482031598|          0.0|           0.0|M1608549119|           0.0|           0.0|      0|             0|\n",
            "| 156| PAYMENT|    992.4|C1790640036|    154839.13|     153846.73|M1362522801|           0.0|           0.0|      0|             0|\n",
            "| 156| PAYMENT| 18581.86|C1130123560|    110929.86|       92348.0|M1944537109|           0.0|           0.0|      0|             0|\n",
            "| 156|CASH_OUT|395398.52|C1559250547|      13808.0|           0.0|  C14143042|     645925.83|    1041324.35|      0|             0|\n",
            "| 156|CASH_OUT| 99527.04| C474184956|          0.0|           0.0| C125044251|     347488.71|     447015.75|      0|             0|\n",
            "| 156|CASH_OUT|  96339.7|C1304859959|          0.0|           0.0|C1511834200|     131318.12|     227657.82|      0|             0|\n",
            "+----+--------+---------+-----------+-------------+--------------+-----------+--------------+--------------+-------+--------------+\n",
            "only showing top 20 rows"
          ]
        }
      ],
      "source": [
        "raw_data.show()"
      ]
    },
    {
      "cell_type": "code",
      "execution_count": null,
      "metadata": {
        "jupyter": {
          "outputs_hidden": false,
          "source_hidden": false
        },
        "nteract": {
          "transient": {
            "deleting": false
          }
        }
      },
      "outputs": [],
      "source": [
        "# PySpark function to create veritces and edges dataframes in a format accepted by Cosmos SQL api from raw dataframe. \n",
        "# TODO: Add vertex properties \n",
        "def prepare_vertices_edge_df(\n",
        "    df: DataFrame,\n",
        "    source_col_name: str,\n",
        "    dest_col_name: str,\n",
        "    parition_key_col_name: str,\n",
        "    cosmos_parition_name: str,\n",
        "    edge_properties_col_name: list,\n",
        "    vertex_properties_col_name: list,\n",
        "    vertex_label: str = \"account\",\n",
        "    edge_label_col_name: str = \"type\",\n",
        "    sample: bool = False,\n",
        "):\n",
        "    if (sample):\n",
        "        df = df.limit(100)\n",
        "    nameOrig = df.select(source_col_name).withColumnRenamed(source_col_name, \"id\")\n",
        "    nameDest = df.select(dest_col_name).withColumnRenamed(dest_col_name, \"id\")\n",
        "    all_vertices = nameOrig.union(nameDest).distinct()\n",
        "    cosmos_vertices_df = (\n",
        "        all_vertices.withColumn(cosmos_parition_name, all_vertices[\"id\"])\n",
        "        .withColumn(\"label\", F.lit(vertex_label))\n",
        "        .select(\"label\", \"id\", cosmos_parition_name, *vertex_properties_col_name)\n",
        "        .distinct()\n",
        "    )\n",
        "    # Create dataframe with required columns\n",
        "    # _sink => target account => nameDest\n",
        "    # _sinkLabel => target label => \"account\"\n",
        "    # _vertexId => source account => nameOrig\n",
        "    # _vertexLabel => source label => \"account\"\n",
        "    # cosmos_parition_name => partition key defined in Cosmos => \"accountId\"\n",
        "    cosmos_edges_df = (\n",
        "        df.withColumn(\"id\", f_uuid())\n",
        "        .withColumn(cosmos_parition_name, df[parition_key_col_name])\n",
        "        .withColumn(\"label\", df[edge_label_col_name])\n",
        "        .withColumn(\"_sinkPartition\", df[dest_col_name])\n",
        "        .withColumn(\"_vertexId\", df[source_col_name])\n",
        "        .withColumn(\"_sink\", df[dest_col_name])\n",
        "        .withColumn(\"_sinkLabel\", F.lit(vertex_label))\n",
        "        .withColumn(\"_vertexLabel\", F.lit(vertex_label))\n",
        "        .withColumn(\"_isEdge\", f_bool())\n",
        "        .select(\n",
        "            \"id\",\n",
        "            \"label\",\n",
        "            \"_sink\",\n",
        "            \"_sinkLabel\",\n",
        "            \"_sinkPartition\",\n",
        "            \"_vertexId\",\n",
        "            \"_vertexLabel\",\n",
        "            \"_isEdge\",\n",
        "            cosmos_parition_name,\n",
        "            *edge_properties_col_name\n",
        "        )\n",
        "    )\n",
        "    return cosmos_vertices_df, cosmos_edges_df\n"
      ]
    },
    {
      "cell_type": "code",
      "execution_count": null,
      "metadata": {
        "jupyter": {
          "outputs_hidden": false,
          "source_hidden": false
        },
        "nteract": {
          "transient": {
            "deleting": false
          }
        }
      },
      "outputs": [],
      "source": [
        "v, e = prepare_vertices_edge_df(\n",
        "    df=raw_data,\n",
        "    source_col_name=\"nameOrig\",\n",
        "    dest_col_name=\"nameDest\",\n",
        "    parition_key_col_name=\"nameOrig\",\n",
        "    cosmos_parition_name=\"accountId\",\n",
        "    edge_properties_col_name=[\n",
        "        \"amount\",\n",
        "        \"oldbalanceOrg\",\n",
        "        \"oldbalanceDest\",\n",
        "        \"newbalanceDest\",\n",
        "    ],\n",
        "    vertex_properties_col_name=[],\n",
        "    sample=True\n",
        ")\n"
      ]
    },
    {
      "cell_type": "code",
      "execution_count": 8,
      "metadata": {
        "jupyter": {
          "outputs_hidden": false,
          "source_hidden": false
        },
        "nteract": {
          "transient": {
            "deleting": false
          }
        }
      },
      "outputs": [
        {
          "data": {
            "application/vnd.livy.statement-meta+json": {
              "execution_finish_time": "2022-01-10T11:40:07.4797605Z",
              "execution_start_time": "2022-01-10T11:39:42.5313052Z",
              "livy_statement_state": "available",
              "queued_time": "2022-01-10T11:38:03.4936815Z",
              "session_id": 18,
              "session_start_time": null,
              "spark_pool": "sparkpool01",
              "state": "finished",
              "statement_id": 8
            },
            "text/plain": [
              "StatementMeta(sparkpool01, 18, 8, Finished, Available)"
            ]
          },
          "metadata": {},
          "output_type": "display_data"
        },
        {
          "name": "stdout",
          "output_type": "stream",
          "text": [
            "+-------+-----------+-----------+\n",
            "|  label|         id|  accountId|\n",
            "+-------+-----------+-----------+\n",
            "|account|C1541840649|C1541840649|\n",
            "|account| C422430677| C422430677|\n",
            "|account| C473429831| C473429831|\n",
            "|account| C729448360| C729448360|\n",
            "|account|C1109346842|C1109346842|\n",
            "|account|C1368076471|C1368076471|\n",
            "|account|C1655405641|C1655405641|\n",
            "|account|C1646359151|C1646359151|\n",
            "|account|C1822627571|C1822627571|\n",
            "|account|M2018675632|M2018675632|\n",
            "|account|C1629481649|C1629481649|\n",
            "|account| M776947998| M776947998|\n",
            "|account| C759012282| C759012282|\n",
            "|account|C1039543044|C1039543044|\n",
            "|account|C1685490824|C1685490824|\n",
            "|account| C443055530| C443055530|\n",
            "|account|M1936404595|M1936404595|\n",
            "|account|C1458319665|C1458319665|\n",
            "|account|C1406712091|C1406712091|\n",
            "|account|C1648846292|C1648846292|\n",
            "+-------+-----------+-----------+\n",
            "only showing top 20 rows"
          ]
        }
      ],
      "source": [
        "v.count()\n",
        "v.show()"
      ]
    },
    {
      "cell_type": "code",
      "execution_count": 9,
      "metadata": {
        "jupyter": {
          "outputs_hidden": false,
          "source_hidden": false
        },
        "nteract": {
          "transient": {
            "deleting": false
          }
        }
      },
      "outputs": [
        {
          "data": {
            "application/vnd.livy.statement-meta+json": {
              "execution_finish_time": "2022-01-10T11:40:26.3656875Z",
              "execution_start_time": "2022-01-10T11:40:07.5797882Z",
              "livy_statement_state": "available",
              "queued_time": "2022-01-10T11:38:03.4954908Z",
              "session_id": 18,
              "session_start_time": null,
              "spark_pool": "sparkpool01",
              "state": "finished",
              "statement_id": 9
            },
            "text/plain": [
              "StatementMeta(sparkpool01, 18, 9, Finished, Available)"
            ]
          },
          "metadata": {},
          "output_type": "display_data"
        },
        {
          "name": "stdout",
          "output_type": "stream",
          "text": [
            "+--------------------+--------+-----------+----------+--------------+-----------+------------+-------+-----------+---------+-------------+--------------+--------------+\n",
            "|                  id|   label|      _sink|_sinkLabel|_sinkPartition|  _vertexId|_vertexLabel|_isEdge|  accountId|   amount|oldbalanceOrg|oldbalanceDest|newbalanceDest|\n",
            "+--------------------+--------+-----------+----------+--------------+-----------+------------+-------+-----------+---------+-------------+--------------+--------------+\n",
            "|d4aa189e-0eeb-47c...| CASH_IN|C1793677055|   account|   C1793677055|C1519792972|     account|   true|C1519792972| 256203.2|1.795038527E7|     263485.24|       7282.05|\n",
            "|9cdbcbf1-c5d2-45d...| CASH_IN|C1853417494|   account|   C1853417494| C945424670|     account|   true| C945424670|239326.27|2.222391698E7|     549020.76|     309694.49|\n",
            "|e38e599a-fef5-428...|CASH_OUT|C2082577597|   account|   C2082577597|C1941980439|     account|   true|C1941980439|255774.06|      61334.0|           0.0|     255774.06|\n",
            "|818ecd78-c9c6-4be...| CASH_IN| C729448360|   account|    C729448360| C487010990|     account|   true| C487010990|101050.92|       9987.0|      38486.82|           0.0|\n",
            "|9e5c4562-86ac-4c1...|TRANSFER| C741545674|   account|    C741545674|C1123901508|     account|   true|C1123901508|416825.34|          0.0|     736063.31|    1152888.65|\n",
            "|c5eced33-ab26-46d...| CASH_IN|C1897374746|   account|   C1897374746|C2042115589|     account|   true|C2042115589|291693.32|      24727.0|           0.0|           0.0|\n",
            "|77fc166a-0d02-405...|CASH_OUT| C762348120|   account|    C762348120|C1105615753|     account|   true|C1105615753|527494.46|          0.0|    1811198.37|    2338692.83|\n",
            "|6d63f5a2-bf63-427...|CASH_OUT| C578815102|   account|    C578815102|C1971821954|     account|   true|C1971821954| 34338.56|          0.0|      86797.11|     121135.68|\n",
            "|f502b2cd-0ffe-4c3...|CASH_OUT|C1648846292|   account|   C1648846292|C1909913059|     account|   true|C1909913059|176913.58|     101763.0|    3109249.46|    3286163.04|\n",
            "|17f15517-4b5b-4a0...| PAYMENT|M2018675632|   account|   M2018675632| C988968921|     account|   true| C988968921| 13409.03|          0.0|           0.0|           0.0|\n",
            "|86421b85-ac78-4c7...|CASH_OUT|C1368076471|   account|   C1368076471| C636946653|     account|   true| C636946653| 14216.24|          0.0|    2909427.84|    2923644.09|\n",
            "|2109ecd3-b07d-47f...|CASH_OUT| C882094581|   account|    C882094581| C307926583|     account|   true| C307926583|  33806.4|          0.0|     988415.68|    1022222.08|\n",
            "|1fa63215-2563-439...|CASH_OUT|C1654260097|   account|   C1654260097|C1169731673|     account|   true|C1169731673|317954.53|     348240.0|     408630.98|     726585.51|\n",
            "|46bd99f5-baa7-446...|CASH_OUT| C698389523|   account|    C698389523| C789573338|     account|   true| C789573338| 53983.44|          0.0|      67313.13|     121296.57|\n",
            "|e9a802d2-a988-423...| PAYMENT|M1608549119|   account|   M1608549119|C1482031598|     account|   true|C1482031598|   797.11|          0.0|           0.0|           0.0|\n",
            "|e16ce692-36bc-4a9...| PAYMENT|M1362522801|   account|   M1362522801|C1790640036|     account|   true|C1790640036|    992.4|    154839.13|           0.0|           0.0|\n",
            "|64058942-7a53-40f...| PAYMENT|M1944537109|   account|   M1944537109|C1130123560|     account|   true|C1130123560| 18581.86|    110929.86|           0.0|           0.0|\n",
            "|6d900bd1-24d6-4c9...|CASH_OUT|  C14143042|   account|     C14143042|C1559250547|     account|   true|C1559250547|395398.52|      13808.0|     645925.83|    1041324.35|\n",
            "|f8134c80-1062-4dd...|CASH_OUT| C125044251|   account|    C125044251| C474184956|     account|   true| C474184956| 99527.04|          0.0|     347488.71|     447015.75|\n",
            "|0a8253f3-dda0-4b5...|CASH_OUT|C1511834200|   account|   C1511834200|C1304859959|     account|   true|C1304859959|  96339.7|          0.0|     131318.12|     227657.82|\n",
            "+--------------------+--------+-----------+----------+--------------+-----------+------------+-------+-----------+---------+-------------+--------------+--------------+\n",
            "only showing top 20 rows"
          ]
        }
      ],
      "source": [
        "e.count()\n",
        "e.show()"
      ]
    },
    {
      "cell_type": "code",
      "execution_count": null,
      "metadata": {
        "jupyter": {
          "outputs_hidden": false,
          "source_hidden": false
        },
        "nteract": {
          "transient": {
            "deleting": false
          }
        }
      },
      "outputs": [],
      "source": [
        "write_to_cosmos_graph(v,\"vertices\",False)\n",
        "write_to_cosmos_graph(e,\"edges\",False)"
      ]
    }
  ],
  "metadata": {
    "description": null,
    "interpreter": {
      "hash": "f9cd62efb0fc51286d3613ac05078f54464dadbae5b8bf8b1358fb34bf40e623"
    },
    "kernel_info": {
      "name": "synapse_pyspark"
    },
    "kernelspec": {
      "display_name": "Synapse PySpark",
      "language": "python",
      "name": "python3"
    },
    "language_info": {
      "name": "python",
      "version": "3.10.0"
    },
    "save_output": true,
    "synapse_widget": {
      "state": {},
      "version": "0.1"
    }
  },
  "nbformat": 4,
  "nbformat_minor": 2
}
