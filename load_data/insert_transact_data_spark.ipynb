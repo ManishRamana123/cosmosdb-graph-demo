{
  "cells": [
    {
      "cell_type": "code",
      "execution_count": 74,
      "metadata": {},
      "outputs": [
        {
          "data": {
            "application/vnd.livy.statement-meta+json": {
              "execution_finish_time": "2021-12-17T10:28:51.9496593Z",
              "execution_start_time": "2021-12-17T10:28:51.7829566Z",
              "livy_statement_state": "available",
              "queued_time": "2021-12-17T10:26:13.3007283Z",
              "session_id": 8,
              "session_start_time": "2021-12-17T10:26:13.336653Z",
              "spark_pool": "sparkpool01",
              "state": "finished",
              "statement_id": 1
            },
            "text/plain": [
              "StatementMeta(sparkpool01, 8, 1, Finished, Available)"
            ]
          },
          "metadata": {},
          "output_type": "display_data"
        }
      ],
      "source": [
        "import os\n",
        "import uuid\n",
        "from notebookutils import mssparkutils\n",
        "from pyspark.sql import DataFrame\n",
        "import pyspark.sql.functions as F\n",
        "from pyspark.sql.types import StructType,StructField, StringType, IntegerType, MapType, ArrayType,BooleanType\n",
        "\n",
        "f_uuid = F.udf(lambda: str(uuid.uuid4()), StringType())\n",
        "f_bool = F.udf(lambda: True, BooleanType())\n"
      ]
    },
    {
      "cell_type": "code",
      "execution_count": 75,
      "metadata": {
        "jupyter": {
          "outputs_hidden": false,
          "source_hidden": false
        },
        "nteract": {
          "transient": {
            "deleting": false
          }
        }
      },
      "outputs": [
        {
          "data": {
            "application/vnd.livy.statement-meta+json": {
              "execution_finish_time": "2021-12-17T10:29:27.5964236Z",
              "execution_start_time": "2021-12-17T10:29:00.5319778Z",
              "livy_statement_state": "available",
              "queued_time": "2021-12-17T10:29:00.3941027Z",
              "session_id": 8,
              "session_start_time": null,
              "spark_pool": "sparkpool01",
              "state": "finished",
              "statement_id": 2
            },
            "text/plain": [
              "StatementMeta(sparkpool01, 8, 2, Finished, Available)"
            ]
          },
          "metadata": {},
          "output_type": "display_data"
        }
      ],
      "source": [
        "mssparkutils.fs.mount( \n",
        "    \"abfss://bronze@xxxxxxx.dfs.core.windows.net\", \n",
        "    \"/mydata\", \n",
        "    {\"linkedService\":\"xxxxxx-synapse-01-WorkspaceDefaultStorage\"} \n",
        ")\n",
        "job_id = mssparkutils.env.getJobId()\n",
        "bronze_mount_point = f\"synfs:/{job_id}/mydata/archive.zip\""
      ]
    },
    {
      "cell_type": "code",
      "execution_count": 88,
      "metadata": {
        "jupyter": {
          "outputs_hidden": false,
          "source_hidden": false
        },
        "nteract": {
          "transient": {
            "deleting": false
          }
        }
      },
      "outputs": [
        {
          "data": {
            "application/vnd.livy.statement-meta+json": {
              "execution_finish_time": "2021-12-17T10:44:13.4097846Z",
              "execution_start_time": "2021-12-17T10:44:13.2584249Z",
              "livy_statement_state": "available",
              "queued_time": "2021-12-17T10:44:13.1606005Z",
              "session_id": 8,
              "session_start_time": null,
              "spark_pool": "sparkpool01",
              "state": "finished",
              "statement_id": 15
            },
            "text/plain": [
              "StatementMeta(sparkpool01, 8, 15, Finished, Available)"
            ]
          },
          "metadata": {},
          "output_type": "display_data"
        }
      ],
      "source": [
        "cosmosEndpoint = \"https://ebcbin5oofjcs.documents.azure.com:443/\"\n",
        "cosmosMasterKey = \"xxxxx\"\n",
        "cosmosDatabaseName = \"database01\"\n",
        "cosmosContainerName = \"graph01\"\n",
        "\n",
        "cfg = {\n",
        "  \"spark.cosmos.accountEndpoint\" : cosmosEndpoint,\n",
        "  \"spark.cosmos.accountKey\" : cosmosMasterKey,\n",
        "  \"spark.cosmos.database\" : cosmosDatabaseName,\n",
        "  \"spark.cosmos.container\" : cosmosContainerName,\n",
        "}\n",
        "# Configure Catalog Api to be used\n",
        "spark.conf.set(\"spark.sql.catalog.cosmosCatalog\", \"com.azure.cosmos.spark.CosmosCatalog\")\n",
        "spark.conf.set(\"spark.sql.catalog.cosmosCatalog.spark.cosmos.accountEndpoint\", cosmosEndpoint)\n",
        "spark.conf.set(\"spark.sql.catalog.cosmosCatalog.spark.cosmos.accountKey\", cosmosMasterKey)\n",
        "\n",
        "def write_to_cosmos_graph(df: DataFrame, data_type: str, save: bool = False):\n",
        "    if (save):\n",
        "        df.write.format(\"delta\").mode(\"overwrite\").option(\"overwriteSchema\", \"true\").save(f\"synfs:/{job_id}/mydata/{data_type}/\")\n",
        "        \n",
        "    df.write\\\n",
        "   .format(\"cosmos.oltp\")\\\n",
        "   .options(**cfg)\\\n",
        "   .mode(\"APPEND\")\\\n",
        "   .save()"
      ]
    },
    {
      "cell_type": "code",
      "execution_count": 77,
      "metadata": {
        "jupyter": {
          "outputs_hidden": false,
          "source_hidden": false
        },
        "nteract": {
          "transient": {
            "deleting": false
          }
        }
      },
      "outputs": [
        {
          "data": {
            "application/vnd.livy.statement-meta+json": {
              "execution_finish_time": "2021-12-17T10:30:07.2132043Z",
              "execution_start_time": "2021-12-17T10:29:27.8123265Z",
              "livy_statement_state": "available",
              "queued_time": "2021-12-17T10:29:19.2848896Z",
              "session_id": 8,
              "session_start_time": null,
              "spark_pool": "sparkpool01",
              "state": "finished",
              "statement_id": 4
            },
            "text/plain": [
              "StatementMeta(sparkpool01, 8, 4, Finished, Available)"
            ]
          },
          "metadata": {},
          "output_type": "display_data"
        }
      ],
      "source": [
        "raw_data = spark.read.format('delta').load(bronze_mount_point).distinct()"
      ]
    },
    {
      "cell_type": "code",
      "execution_count": 78,
      "metadata": {
        "jupyter": {
          "outputs_hidden": false,
          "source_hidden": false
        },
        "nteract": {
          "transient": {
            "deleting": false
          }
        }
      },
      "outputs": [
        {
          "data": {
            "application/vnd.livy.statement-meta+json": {
              "execution_finish_time": "2021-12-17T10:30:07.4775638Z",
              "execution_start_time": "2021-12-17T10:30:07.3172931Z",
              "livy_statement_state": "available",
              "queued_time": "2021-12-17T10:29:22.4189056Z",
              "session_id": 8,
              "session_start_time": null,
              "spark_pool": "sparkpool01",
              "state": "finished",
              "statement_id": 5
            },
            "text/plain": [
              "StatementMeta(sparkpool01, 8, 5, Finished, Available)"
            ]
          },
          "metadata": {},
          "output_type": "display_data"
        }
      ],
      "source": [
        "# Create vertices based on activity and num of transaction made from raw data\n",
        "def prepare_vertices(df: DataFrame) -> DataFrame:\n",
        "    nameOrig = df.select(\"nameOrig\")\n",
        "    nameDest = df.select(\"nameDest\")\n",
        "    busy_accounts = nameOrig.union(nameDest).withColumnRenamed('nameOrig','id')\n",
        "    top_account_activity = busy_accounts.groupBy('id').count().filter(F.col('count') > 10 ).select('id') # accounts with more than 10 transactions\n",
        "    top_account_amount = df.filter(F.col('amount') > 500000) # accounts with amount transfer more than 500000\n",
        "    nameOrigA = top_account_amount.select('nameOrig')\n",
        "    nameDestA = top_account_amount.select('nameDest')\n",
        "    top_account_transact = nameOrigA.union(nameDestA).withColumnRenamed('nameOrig','id').distinct().select('id')\n",
        "    vertices = top_account_activity.union(top_account_transact).distinct()\n",
        "    cosmos_vertices_df = vertices.withColumn('label',F.lit('account')).withColumn('accountId',vertices['id']).\\\n",
        "    select(\"label\",\"id\",\"accountId\")\n",
        "    return cosmos_vertices_df.distinct()\n"
      ]
    },
    {
      "cell_type": "code",
      "execution_count": 79,
      "metadata": {
        "jupyter": {
          "outputs_hidden": false,
          "source_hidden": false
        },
        "nteract": {
          "transient": {
            "deleting": false
          }
        }
      },
      "outputs": [
        {
          "data": {
            "application/vnd.livy.statement-meta+json": {
              "execution_finish_time": "2021-12-17T10:30:07.7441808Z",
              "execution_start_time": "2021-12-17T10:30:07.5863343Z",
              "livy_statement_state": "available",
              "queued_time": "2021-12-17T10:29:26.9585578Z",
              "session_id": 8,
              "session_start_time": null,
              "spark_pool": "sparkpool01",
              "state": "finished",
              "statement_id": 6
            },
            "text/plain": [
              "StatementMeta(sparkpool01, 8, 6, Finished, Available)"
            ]
          },
          "metadata": {},
          "output_type": "display_data"
        }
      ],
      "source": [
        "def prep_cosmos_edge_df(df: DataFrame) -> DataFrame:\n",
        "   return df.distinct().withColumn(\"label\",df['type']).\\\n",
        "    withColumn('accountId',df['nameOrig']).\\\n",
        "    withColumnRenamed('nameOrig','_vertexId').\\\n",
        "    withColumn('_sinkPartition',df['nameDest']).\\\n",
        "    withColumnRenamed('nameDest',\"_sink\").\\\n",
        "    withColumn('_sinkLabel',F.lit(\"account\")).\\\n",
        "    withColumn('_vertexLabel',F.lit(\"account\")).\\\n",
        "    withColumn('_isEdge',f_bool()).\\\n",
        "    withColumn('id', f_uuid()).\\\n",
        "    select(\"id\",\"label\",\"_sink\",\"_sinkLabel\",\"_sinkPartition\",\"_vertexId\",\"_vertexLabel\",\"_isEdge\",\"accountId\",\"type\",\"amount\",\"oldbalanceOrg\",\"oldbalanceDest\",\"newbalanceDest\")\n",
        "\n",
        "\n",
        "# Filter transaction that have either the source or destination as vertices\n",
        "def prepare_edges_loose(df: DataFrame, vertices:DataFrame) -> DataFrame:\n",
        "    transactions_nameOrig = df.join(vertices, df['nameOrig'] == vertices['id'])\n",
        "    transactions_nameDest = df.join(vertices, df['nameDest'] == vertices['id'])\n",
        "    edges = transactions_nameOrig.union(transactions_nameDest).select(\"type\",\"amount\",\"nameOrig\",\"nameDest\",\"oldbalanceOrg\",\"newbalanceOrig\",\"oldbalanceDest\",\"newbalanceDest\")\n",
        "    return prep_cosmos_edge_df(edges)\n",
        "    \n",
        "    \n",
        "\n",
        "# Filter transaction that have both source and destination as vertices\n",
        "def prepare_edges_strict(df: DataFrame, vertices:DataFrame) -> DataFrame:\n",
        "    transactions = df.alias(\"a\").join(\n",
        "        vertices.alias(\"b\"), df.nameOrig == vertices.id)\\\n",
        "        .drop( vertices.id)\\\n",
        "        .join(\n",
        "            vertices.alias(\"c\"), df.nameDest == vertices.id)\n",
        "    edges = transactions.select(\"type\",\"amount\",\"nameOrig\",\"nameDest\",\"oldbalanceOrg\",\"newbalanceOrig\",\"oldbalanceDest\",\"newbalanceDest\")\n",
        "    return prep_cosmos_edge_df(edges)\n",
        "\n"
      ]
    },
    {
      "cell_type": "code",
      "execution_count": 80,
      "metadata": {
        "jupyter": {
          "outputs_hidden": false,
          "source_hidden": false
        },
        "nteract": {
          "transient": {
            "deleting": false
          }
        }
      },
      "outputs": [
        {
          "data": {
            "application/vnd.livy.statement-meta+json": {
              "execution_finish_time": "2021-12-17T10:30:08.3732099Z",
              "execution_start_time": "2021-12-17T10:30:07.8500325Z",
              "livy_statement_state": "available",
              "queued_time": "2021-12-17T10:29:31.5367575Z",
              "session_id": 8,
              "session_start_time": null,
              "spark_pool": "sparkpool01",
              "state": "finished",
              "statement_id": 7
            },
            "text/plain": [
              "StatementMeta(sparkpool01, 8, 7, Finished, Available)"
            ]
          },
          "metadata": {},
          "output_type": "display_data"
        }
      ],
      "source": [
        "v = prepare_vertices(raw_data)"
      ]
    },
    {
      "cell_type": "code",
      "execution_count": 60,
      "metadata": {
        "jupyter": {
          "outputs_hidden": false,
          "source_hidden": false
        },
        "nteract": {
          "transient": {
            "deleting": false
          }
        }
      },
      "outputs": [
        {
          "data": {
            "application/vnd.livy.statement-meta+json": {
              "execution_finish_time": "2021-12-17T10:09:17.0212172Z",
              "execution_start_time": "2021-12-17T10:08:06.9636431Z",
              "livy_statement_state": "available",
              "queued_time": "2021-12-17T10:08:06.8728614Z",
              "session_id": 7,
              "session_start_time": null,
              "spark_pool": "sparkpool01",
              "state": "finished",
              "statement_id": 45
            },
            "text/plain": [
              "StatementMeta(sparkpool01, 7, 45, Finished, Available)"
            ]
          },
          "metadata": {},
          "output_type": "display_data"
        },
        {
          "data": {
            "text/plain": [
              "505821"
            ]
          },
          "metadata": {},
          "output_type": "display_data"
        }
      ],
      "source": [
        "v.count()"
      ]
    },
    {
      "cell_type": "code",
      "execution_count": 81,
      "metadata": {
        "jupyter": {
          "outputs_hidden": false,
          "source_hidden": false
        },
        "nteract": {
          "transient": {
            "deleting": false
          }
        }
      },
      "outputs": [
        {
          "data": {
            "application/vnd.livy.statement-meta+json": {
              "execution_finish_time": "2021-12-17T10:30:09.6009714Z",
              "execution_start_time": "2021-12-17T10:30:08.5173871Z",
              "livy_statement_state": "available",
              "queued_time": "2021-12-17T10:29:37.9531756Z",
              "session_id": 8,
              "session_start_time": null,
              "spark_pool": "sparkpool01",
              "state": "finished",
              "statement_id": 8
            },
            "text/plain": [
              "StatementMeta(sparkpool01, 8, 8, Finished, Available)"
            ]
          },
          "metadata": {},
          "output_type": "display_data"
        }
      ],
      "source": [
        "e = prepare_edges_strict(raw_data,v)"
      ]
    },
    {
      "cell_type": "code",
      "execution_count": 71,
      "metadata": {
        "jupyter": {
          "outputs_hidden": false,
          "source_hidden": false
        },
        "nteract": {
          "transient": {
            "deleting": false
          }
        }
      },
      "outputs": [
        {
          "data": {
            "application/vnd.livy.statement-meta+json": {
              "execution_finish_time": "2021-12-17T10:22:59.6105584Z",
              "execution_start_time": "2021-12-17T10:20:49.5508558Z",
              "livy_statement_state": "available",
              "queued_time": "2021-12-17T10:20:49.458027Z",
              "session_id": 7,
              "session_start_time": null,
              "spark_pool": "sparkpool01",
              "state": "finished",
              "statement_id": 56
            },
            "text/plain": [
              "StatementMeta(sparkpool01, 7, 56, Finished, Available)"
            ]
          },
          "metadata": {},
          "output_type": "display_data"
        },
        {
          "name": "stdout",
          "output_type": "stream",
          "text": [
            "+--------------------+--------+-----------+----------+--------------+-----------+------------+-------+-----------+--------+----------+-------------+--------------+--------------+\n",
            "|                  id|   label|      _sink|_sinkLabel|_sinkPartition|  _vertexId|_vertexLabel|_isEdge|  accountId|    type|    amount|oldbalanceOrg|oldbalanceDest|newbalanceDest|\n",
            "+--------------------+--------+-----------+----------+--------------+-----------+------------+-------+-----------+--------+----------+-------------+--------------+--------------+\n",
            "|f28235ac-a9ba-4c4...|TRANSFER|C1002140910|   account|   C1002140910|C1348263973|     account|   true|C1348263973|TRANSFER| 543109.13|          0.0|    1479995.34|    2023104.48|\n",
            "|189c0c71-777b-45f...|CASH_OUT|C1002735434|   account|   C1002735434| C540661761|     account|   true| C540661761|CASH_OUT| 516655.06|      10040.0|     395505.22|     912160.27|\n",
            "|452b63bb-cb3b-45d...|TRANSFER|C1003597854|   account|   C1003597854|C1077134277|     account|   true|C1077134277|TRANSFER| 1898894.9|      51228.0|           0.0|     1898894.9|\n",
            "|19f8c6f6-7dea-455...|TRANSFER|C1011536821|   account|   C1011536821|C2009630125|     account|   true|C2009630125|TRANSFER|1446850.33|     324024.0|           0.0|    1446850.33|\n",
            "|018e0aa1-f944-409...|CASH_OUT|C1011716062|   account|   C1011716062|  C19391192|     account|   true|  C19391192|CASH_OUT| 568753.81|     219366.0|           0.0|     568753.81|\n",
            "|70267deb-aa82-446...| CASH_IN|C1012064558|   account|   C1012064558|C1001568838|     account|   true|C1001568838| CASH_IN| 545479.54|       7056.0|           0.0|           0.0|\n",
            "|a53bfc7c-2d0f-4c8...|TRANSFER|C1012064558|   account|   C1012064558| C702812035|     account|   true| C702812035|TRANSFER|  582160.5|        900.0|           0.0|      582160.5|\n",
            "|b83b7168-d749-40e...|CASH_OUT|C1017845506|   account|   C1017845506|  C46141189|     account|   true|  C46141189|CASH_OUT| 563076.24|    110436.82|    1545322.49|    2108398.73|\n",
            "|e6db5f78-a09b-4ad...| CASH_IN|C1017845506|   account|   C1017845506|C1838801536|     account|   true|C1838801536| CASH_IN|  511284.5|       9917.0|           0.0|           0.0|\n",
            "|e71e623e-42be-487...|CASH_OUT|C1025694734|   account|   C1025694734|C2098853738|     account|   true|C2098853738|CASH_OUT| 786207.11|      19685.0|           0.0|     786207.11|\n",
            "|d7ea3e98-c798-4c4...|CASH_OUT|C1026120849|   account|   C1026120849|C1571282403|     account|   true|C1571282403|CASH_OUT| 536895.12|       368.61|    1144354.56|    1681249.67|\n",
            "|b9518b40-8243-458...|TRANSFER|C1026382242|   account|   C1026382242|C1760737477|     account|   true|C1760737477|TRANSFER| 630595.37|          0.0|    1428938.99|    2059534.37|\n",
            "|0890f113-7b50-409...|TRANSFER|C1029613730|   account|   C1029613730|C1021093618|     account|   true|C1021093618|TRANSFER| 614145.31|    614145.31|           0.0|           0.0|\n",
            "|4733ab45-7f55-441...|TRANSFER|C1033420094|   account|   C1033420094|C1760128730|     account|   true|C1760128730|TRANSFER| 624778.45|      18585.0|     865922.76|    1490701.21|\n",
            "|be5df7c5-473e-48f...|TRANSFER|C1035613847|   account|   C1035613847|C1921553992|     account|   true|C1921553992|TRANSFER| 701479.31|      10539.0|     517390.45|    1218869.76|\n",
            "|3ffb126f-e70a-40c...|TRANSFER|C1036308272|   account|   C1036308272| C217029277|     account|   true| C217029277|TRANSFER| 503253.81|          0.0|     638521.72|    1141775.53|\n",
            "|a63dce5b-df43-400...| CASH_IN|C1036308272|   account|   C1036308272|C1349549513|     account|   true|C1349549513| CASH_IN| 730553.99|1.016159674E7|    1141775.53|     411221.54|\n",
            "|bf2ba81c-1947-42e...|CASH_OUT|C1036507890|   account|   C1036507890|C1108672978|     account|   true|C1108672978|CASH_OUT| 599246.41|       2186.0|      134654.8|     733901.21|\n",
            "|c998a4b3-01c2-48b...|CASH_OUT|C1036507890|   account|   C1036507890|C1475595462|     account|   true|C1475595462|CASH_OUT| 620079.22|          0.0|    1956328.97|    2576408.18|\n",
            "|5859f41a-244c-430...|TRANSFER|C1036507890|   account|   C1036507890|C1433492571|     account|   true|C1433492571|TRANSFER| 769928.61|     739629.0|     980713.57|     1917262.1|\n",
            "+--------------------+--------+-----------+----------+--------------+-----------+------------+-------+-----------+--------+----------+-------------+--------------+--------------+\n",
            "only showing top 20 rows"
          ]
        }
      ],
      "source": [
        "e.show()"
      ]
    },
    {
      "cell_type": "code",
      "execution_count": 72,
      "metadata": {
        "jupyter": {
          "outputs_hidden": false,
          "source_hidden": false
        },
        "nteract": {
          "transient": {
            "deleting": false
          }
        }
      },
      "outputs": [
        {
          "data": {
            "application/vnd.livy.statement-meta+json": {
              "execution_finish_time": "2021-12-17T10:25:09.734395Z",
              "execution_start_time": "2021-12-17T10:22:59.7066434Z",
              "livy_statement_state": "available",
              "queued_time": "2021-12-17T10:20:55.1671365Z",
              "session_id": 7,
              "session_start_time": null,
              "spark_pool": "sparkpool01",
              "state": "finished",
              "statement_id": 57
            },
            "text/plain": [
              "StatementMeta(sparkpool01, 7, 57, Finished, Available)"
            ]
          },
          "metadata": {},
          "output_type": "display_data"
        },
        {
          "data": {
            "text/plain": [
              "340762"
            ]
          },
          "metadata": {},
          "output_type": "display_data"
        }
      ],
      "source": [
        "e.count()"
      ]
    },
    {
      "cell_type": "code",
      "execution_count": 9,
      "metadata": {
        "jupyter": {
          "outputs_hidden": false,
          "source_hidden": false
        },
        "nteract": {
          "transient": {
            "deleting": false
          }
        }
      },
      "outputs": [
        {
          "data": {
            "application/vnd.livy.statement-meta+json": {
              "execution_finish_time": "2021-12-17T06:44:46.0796719Z",
              "execution_start_time": "2021-12-17T06:42:59.7508707Z",
              "livy_statement_state": "available",
              "queued_time": "2021-12-17T06:42:59.655765Z",
              "session_id": 6,
              "session_start_time": null,
              "spark_pool": "sparkpool01",
              "state": "finished",
              "statement_id": 9
            },
            "text/plain": [
              "StatementMeta(sparkpool01, 6, 9, Finished, Available)"
            ]
          },
          "metadata": {},
          "output_type": "display_data"
        },
        {
          "name": "stdout",
          "output_type": "stream",
          "text": [
            "Number of Accounts/Vertices: 20, Number of transactions/Edges: 10"
          ]
        }
      ],
      "source": [
        "# # Create test data set to verify vertices and edges are being created correctly\n",
        "# cosmos_edges_df_test = cosmos_edges_df.limit(10)\n",
        "# source = cosmos_edges_df_test.select('_vertexId')\n",
        "# dest = cosmos_edges_df_test.select('_sink')\n",
        "# tmp = source.union(dest).distinct().withColumnRenamed('_vertexId','id').withColumn('label',F.lit('account'))\n",
        "# cosmos_vertices_df_test = tmp.withColumn('accountId',tmp['id']).select(\"label\",\"id\",\"accountId\")\n",
        "# print(f\"Number of Accounts/Vertices: {cosmos_vertices_df_test.count()}, Number of transactions/Edges: {cosmos_edges_df_test.count()}\")\n",
        "# write_to_cosmos_graph(cosmos_vertices_df_test,\"vertices\",False)\n",
        "# write_to_cosmos_graph(cosmos_edges_df.\"edges\",False)"
      ]
    },
    {
      "cell_type": "code",
      "execution_count": 89,
      "metadata": {
        "jupyter": {
          "outputs_hidden": false,
          "source_hidden": false
        },
        "nteract": {
          "transient": {
            "deleting": false
          }
        }
      },
      "outputs": [
        {
          "data": {
            "application/vnd.livy.statement-meta+json": {
              "execution_finish_time": "2021-12-17T10:54:01.5946802Z",
              "execution_start_time": "2021-12-17T10:44:26.4934131Z",
              "livy_statement_state": "available",
              "queued_time": "2021-12-17T10:44:26.3801445Z",
              "session_id": 8,
              "session_start_time": null,
              "spark_pool": "sparkpool01",
              "state": "finished",
              "statement_id": 16
            },
            "text/plain": [
              "StatementMeta(sparkpool01, 8, 16, Finished, Available)"
            ]
          },
          "metadata": {},
          "output_type": "display_data"
        }
      ],
      "source": [
        "write_to_cosmos_graph(v,\"vertices\",True)\n",
        "write_to_cosmos_graph(e,\"edges\",True)"
      ]
    },
    {
      "cell_type": "code",
      "execution_count": 90,
      "metadata": {
        "jupyter": {
          "outputs_hidden": false,
          "source_hidden": false
        },
        "nteract": {
          "transient": {
            "deleting": false
          }
        }
      },
      "outputs": [
        {
          "data": {
            "application/vnd.livy.statement-meta+json": {
              "execution_finish_time": "2021-12-17T10:57:26.607672Z",
              "execution_start_time": null,
              "livy_statement_state": null,
              "queued_time": "2021-12-17T10:57:26.4562084Z",
              "session_id": null,
              "session_start_time": null,
              "spark_pool": null,
              "state": "finished",
              "statement_id": null
            },
            "text/plain": [
              "StatementMeta(, , , Finished, )"
            ]
          },
          "metadata": {},
          "output_type": "display_data"
        },
        {
          "ename": "",
          "evalue": "Livy session has failed. Session state: Killed. Session has been cancelled. Source: User.",
          "output_type": "error",
          "traceback": [
            ": Livy session has failed. Session state: Killed. Session has been cancelled. Source: User."
          ]
        }
      ],
      "source": [
        "edge_mount = f\"synfs:/{job_id}/mydata/edges\"\n",
        "vertices_mount = f\"synfs:/{job_id}/mydata/vertices\""
      ]
    },
    {
      "cell_type": "code",
      "execution_count": 29,
      "metadata": {
        "jupyter": {
          "outputs_hidden": false,
          "source_hidden": false
        },
        "nteract": {
          "transient": {
            "deleting": false
          }
        }
      },
      "outputs": [
        {
          "data": {
            "application/vnd.livy.statement-meta+json": {
              "execution_finish_time": "2021-12-17T09:14:14.1470108Z",
              "execution_start_time": "2021-12-17T09:14:05.5048032Z",
              "livy_statement_state": "available",
              "queued_time": "2021-12-17T09:14:05.4018031Z",
              "session_id": 7,
              "session_start_time": null,
              "spark_pool": "sparkpool01",
              "state": "finished",
              "statement_id": 14
            },
            "text/plain": [
              "StatementMeta(sparkpool01, 7, 14, Finished, Available)"
            ]
          },
          "metadata": {},
          "output_type": "display_data"
        },
        {
          "name": "stdout",
          "output_type": "stream",
          "text": [
            "+--------+--------------------+-----------+\n",
            "|   label|                  id|  accountId|\n",
            "+--------+--------------------+-----------+\n",
            "|CASH_OUT|2e9c9334-10ba-49a...| C607662432|\n",
            "| CASH_IN|99c809cf-e00b-4a5...| C298828698|\n",
            "|CASH_OUT|9b9c9c8c-1e2e-4e1...|C2009902265|\n",
            "| CASH_IN|a0464aca-093c-452...| C927021051|\n",
            "|CASH_OUT|a428a808-a8e2-487...|C1389813286|\n",
            "|CASH_OUT|b024bfa2-d21c-4b6...| C254459874|\n",
            "|CASH_OUT|5a5fc2b2-d7e6-4db...| C478026954|\n",
            "|CASH_OUT|4562d693-73bd-445...|C1940951344|\n",
            "|CASH_OUT|c71b9272-f9b2-4ff...|C1191586887|\n",
            "| CASH_IN|19d2cd86-730b-4a8...| C349558668|\n",
            "| CASH_IN|f418d8c7-206c-490...|C1723926446|\n",
            "| CASH_IN|4ca4ed41-340b-4a5...|C1617085732|\n",
            "| CASH_IN|0a5f085f-4491-403...|C1152435068|\n",
            "|CASH_OUT|19a05e34-a933-429...|C1760052444|\n",
            "|CASH_OUT|b44133e6-013f-471...| C630550318|\n",
            "|CASH_OUT|05a987d8-b542-415...|C1165673445|\n",
            "| CASH_IN|6066dd60-a45a-493...| C278443878|\n",
            "|CASH_OUT|3073381f-7d77-4b6...| C487967778|\n",
            "|TRANSFER|205f5490-81f2-467...|C1897482719|\n",
            "| CASH_IN|7ca5c52d-fe6c-43e...| C372698734|\n",
            "+--------+--------------------+-----------+\n",
            "only showing top 20 rows"
          ]
        }
      ],
      "source": [
        "loaded_edges = spark.read.load(edge_mount)\n",
        "loaded_edges.show()"
      ]
    },
    {
      "cell_type": "code",
      "execution_count": 31,
      "metadata": {
        "jupyter": {
          "outputs_hidden": false,
          "source_hidden": false
        },
        "nteract": {
          "transient": {
            "deleting": false
          }
        }
      },
      "outputs": [
        {
          "data": {
            "application/vnd.livy.statement-meta+json": {
              "execution_finish_time": "2021-12-17T09:15:55.3692964Z",
              "execution_start_time": "2021-12-17T09:15:50.0665147Z",
              "livy_statement_state": "available",
              "queued_time": "2021-12-17T09:15:49.9539197Z",
              "session_id": 7,
              "session_start_time": null,
              "spark_pool": "sparkpool01",
              "state": "finished",
              "statement_id": 16
            },
            "text/plain": [
              "StatementMeta(sparkpool01, 7, 16, Finished, Available)"
            ]
          },
          "metadata": {},
          "output_type": "display_data"
        },
        {
          "name": "stdout",
          "output_type": "stream",
          "text": [
            "+-------+-----------+-----------+\n",
            "|  label|         id|  accountId|\n",
            "+-------+-----------+-----------+\n",
            "|account| C771213975| C771213975|\n",
            "|account| C286977404| C286977404|\n",
            "|account|C1994971777|C1994971777|\n",
            "|account|C1552859894|C1552859894|\n",
            "|account|C1376626882|C1376626882|\n",
            "|account|C1499489682|C1499489682|\n",
            "|account| C283471991| C283471991|\n",
            "|account| C251453626| C251453626|\n",
            "|account| C407287420| C407287420|\n",
            "|account| C469767556| C469767556|\n",
            "|account| C542245023| C542245023|\n",
            "|account| C614274623| C614274623|\n",
            "|account|C1081632645|C1081632645|\n",
            "|account| C361050839| C361050839|\n",
            "|account|C1818824163|C1818824163|\n",
            "|account|C1328577807|C1328577807|\n",
            "|account| C177570699| C177570699|\n",
            "|account|C1059072014|C1059072014|\n",
            "|account| C339119211| C339119211|\n",
            "|account|C1935730862|C1935730862|\n",
            "+-------+-----------+-----------+\n",
            "only showing top 20 rows"
          ]
        }
      ],
      "source": [
        "vertices = spark.read.load(vertices_mount)\n",
        "vertices.show()"
      ]
    },
    {
      "cell_type": "code",
      "execution_count": null,
      "metadata": {
        "jupyter": {
          "outputs_hidden": false,
          "source_hidden": false
        },
        "nteract": {
          "transient": {
            "deleting": false
          }
        }
      },
      "outputs": [],
      "source": []
    }
  ],
  "metadata": {
    "kernel_info": {
      "name": "synapse_pyspark"
    },
    "kernelspec": {
      "display_name": "Synapse PySpark",
      "language": "Python",
      "name": "synapse_pyspark"
    },
    "language_info": {
      "name": "python"
    },
    "save_output": true,
    "synapse_widget": {
      "state": {},
      "version": "0.1"
    }
  },
  "nbformat": 4,
  "nbformat_minor": 2
}
