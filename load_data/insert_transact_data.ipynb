{
 "cells": [
  {
   "cell_type": "code",
   "execution_count": null,
   "metadata": {},
   "outputs": [],
   "source": [
    "from gremlin_python.driver import client, serializer, protocol\n",
    "from gremlin_python.driver.protocol import GremlinServerError\n",
    "from gremlin_python.driver.driver_remote_connection import DriverRemoteConnection\n",
    "from gremlin_python.structure.graph import Graph\n",
    "import sys,os\n",
    "import traceback\n",
    "import pandas as pd\n",
    "import numpy as np\n",
    "import nest_asyncio\n",
    "from ratelimiter import RateLimiter\n",
    "from ratelimit import limits, RateLimitException, sleep_and_retry\n",
    "nest_asyncio.apply()"
   ]
  },
  {
   "cell_type": "code",
   "execution_count": null,
   "metadata": {},
   "outputs": [],
   "source": [
    "database = os.environ.get('COSMOS_DATABASE',default='database01')\n",
    "collection = os.environ.get('COSMOS_GRAPH_COLLECTION',default='graph03')\n",
    "cosmos_key = os.environ.get('COSMOS_KEY',default='')\n",
    "cosmos_endpoint = os.environ.get('COSMOS_ENDPOINT',default='ebcbin5oofjcs.gremlin.cosmos.azure.com:443/')\n",
    "\n",
    "cql = client.Client(\n",
    "    f\"wss://{cosmos_endpoint}\",\n",
    "    \"g\",\n",
    "    username=f\"/dbs/{database}/colls/{collection}\",\n",
    "    password=cosmos_key,\n",
    "    message_serializer=serializer.GraphSONSerializersV2d0(),\n",
    ")\n",
    "def print_status_attributes(result):\n",
    "    # This logs the status attributes returned for successful requests.\n",
    "    # See list of available response status attributes (headers) that Gremlin API can return:\n",
    "    #     https://docs.microsoft.com/en-us/azure/cosmos-db/gremlin-headers#headers\n",
    "    #\n",
    "    # These responses includes total request units charged and total server latency time.\n",
    "    #\n",
    "    # IMPORTANT: Make sure to consume ALL results returend by cliient tothe final status attributes\n",
    "    # for a request. Gremlin result are stream as a sequence of partial response messages\n",
    "    # where the last response contents the complete status attributes set.\n",
    "    #\n",
    "    print(f\"\\tResponse status_attributes:\\n\\t{result.status_attributes}\")\n",
    "\n",
    "def exec_graphql(query):\n",
    "    print(query)\n",
    "    callback = cql.submitAsync(query)\n",
    "    if callback.result() is not None:\n",
    "        print(f\"\\tInserted this vertex:\\n\\t{callback.result().all().result()}\")\n",
    "    else:\n",
    "        print(f\"Something went wrong with this query: {query}\\n\")\n",
    "    print_status_attributes(callback.result())\n",
    "\n",
    "def drop_graph():\n",
    "    exec_graphql(query=\"g.V().drop()\")\n",
    "\n",
    "def count_graph():\n",
    "    exec_graphql(query=\"g.V().count()\")\n",
    "\n",
    "def insert_edges(query):\n",
    "    exec_graphql(query=query)\n"
   ]
  },
  {
   "cell_type": "code",
   "execution_count": null,
   "metadata": {},
   "outputs": [],
   "source": [
    "count_graph()"
   ]
  },
  {
   "cell_type": "code",
   "execution_count": null,
   "metadata": {},
   "outputs": [],
   "source": [
    "# drop_graph()"
   ]
  },
  {
   "cell_type": "code",
   "execution_count": null,
   "metadata": {},
   "outputs": [],
   "source": [
    "# Add vertices as a batch\n",
    "def add_account_vertex_batch(accounts_list: list):\n",
    "    _tmp = []\n",
    "    for account in accounts_list:\n",
    "        _query = (\n",
    "            f\"addV('account').\"\n",
    "            f\"property('id','{account[0]}').\"\n",
    "            f\"property('accountId','{account[0]}')\"\n",
    "        )\n",
    "        _tmp.append(_query)\n",
    "    _q = f\"g.{'.'.join(_tmp)}\"\n",
    "    # print(_q)\n",
    "    try:\n",
    "        exec_graphql(query=_q)\n",
    "    except Exception as e:\n",
    "        print(e)\n",
    "\n",
    "\n",
    "def add_account_vertex(account: str):\n",
    "    _query = (\n",
    "        f\"addV('account').\"\n",
    "        f\"property('id','{account}').\"\n",
    "        f\"property('accountId','{account}')\"\n",
    "    )\n",
    "    _q = f\"g.{_query}\"\n",
    "    exec_graphql(query=_q)\n",
    "    \n",
    "# @sleep_and_retry\n",
    "# @limits(calls=4000,period=1)\n",
    "def add_transact_edge(edge_batch: pd.DataFrame):\n",
    "    _tmp = []\n",
    "    for index,row in edge_batch.iterrows():\n",
    "        query = (\n",
    "            f\"V('{row['nameOrig']}').addE('{row['type']}').\"\n",
    "            f\"from(g.V('{row['nameOrig']}')).\"\n",
    "            f\"to(g.V('{row['nameDest']}')).\"\n",
    "            f\"property('type','{row['type']}').\"\n",
    "            f\"property('amount',{int(row['amount'])}).\"\n",
    "            f\"property('oldbalanceOrg',{int(row['oldbalanceOrg'])}).\"\n",
    "            f\"property('newbalanceOrig',{int(row['newbalanceOrig'])}).\"\n",
    "            f\"property('oldbalanceDest',{int(row['oldbalanceDest'])}).\"\n",
    "            f\"property('newbalanceDest',{int(row['newbalanceDest'])})\"\n",
    "        )\n",
    "        _tmp.append(query)\n",
    "    _q = f\"g.{'.'.join(_tmp)}\"\n",
    "    # print(_q)\n",
    "    exec_graphql(query=_q)"
   ]
  },
  {
   "cell_type": "code",
   "execution_count": null,
   "metadata": {},
   "outputs": [],
   "source": [
    "csv_data = pd.read_csv('data/PS_20174392719_1491204439457_log.csv')\n",
    "account_of_interst = pd.read_csv('data/accounts_of_interest.csv')\n",
    "account_list = account_of_interst['id'].tolist()\n",
    "edges = csv_data.loc[csv_data['nameOrig'].isin(account_list) | csv_data['nameDest'].isin(account_list)]"
   ]
  },
  {
   "cell_type": "code",
   "execution_count": null,
   "metadata": {},
   "outputs": [],
   "source": [
    "vertices = pd.DataFrame(data=pd.concat([edges['nameOrig'],edges['nameDest']]).unique())"
   ]
  },
  {
   "cell_type": "code",
   "execution_count": null,
   "metadata": {},
   "outputs": [],
   "source": [
    "for batch in np.array_split(vertices,200):\n",
    "    add_account_vertex_batch(batch.values.tolist())"
   ]
  },
  {
   "cell_type": "code",
   "execution_count": null,
   "metadata": {},
   "outputs": [],
   "source": [
    "for batch in np.array_split(edges,200):\n",
    "    add_transact_edge(batch)"
   ]
  },
  {
   "cell_type": "code",
   "execution_count": null,
   "metadata": {},
   "outputs": [],
   "source": []
  }
 ],
 "metadata": {
  "interpreter": {
   "hash": "33b08ec51961e536b84eb66ab5f6b2b00c959f9de2910904b018f06fb8f92636"
  },
  "kernelspec": {
   "display_name": "Python 3.10.0 64-bit ('cosmosgraph': pyenv)",
   "language": "python",
   "name": "python3"
  },
  "language_info": {
   "codemirror_mode": {
    "name": "ipython",
    "version": 3
   },
   "file_extension": ".py",
   "mimetype": "text/x-python",
   "name": "python",
   "nbconvert_exporter": "python",
   "pygments_lexer": "ipython3",
   "version": "3.10.0"
  },
  "orig_nbformat": 4
 },
 "nbformat": 4,
 "nbformat_minor": 2
}
