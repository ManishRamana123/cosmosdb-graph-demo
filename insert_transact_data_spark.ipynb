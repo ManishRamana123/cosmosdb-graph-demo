{
  "cells": [
    {
      "cell_type": "code",
      "execution_count": 1,
      "metadata": {},
      "outputs": [
        {
          "data": {
            "application/vnd.livy.statement-meta+json": {
              "execution_finish_time": "2021-12-17T06:41:07.6251457Z",
              "execution_start_time": "2021-12-17T06:41:07.4719054Z",
              "livy_statement_state": "available",
              "queued_time": "2021-12-17T06:40:18.4301393Z",
              "session_id": 6,
              "session_start_time": "2021-12-17T06:40:18.4678795Z",
              "spark_pool": "sparkpool01",
              "state": "finished",
              "statement_id": 1
            },
            "text/plain": [
              "StatementMeta(sparkpool01, 6, 1, Finished, Available)"
            ]
          },
          "metadata": {},
          "output_type": "display_data"
        }
      ],
      "source": [
        "import os\n",
        "import uuid\n",
        "from notebookutils import mssparkutils\n",
        "from pyspark.sql import DataFrame\n",
        "import pyspark.sql.functions as F\n",
        "from pyspark.sql.types import StructType,StructField, StringType, IntegerType, MapType, ArrayType,BooleanType\n",
        "\n",
        "f_uuid = F.udf(lambda: str(uuid.uuid4()), StringType())\n",
        "f_bool = F.udf(lambda: True, BooleanType())\n"
      ]
    },
    {
      "cell_type": "code",
      "execution_count": 3,
      "metadata": {
        "jupyter": {
          "outputs_hidden": false,
          "source_hidden": false
        },
        "nteract": {
          "transient": {
            "deleting": false
          }
        }
      },
      "outputs": [
        {
          "data": {
            "application/vnd.livy.statement-meta+json": {
              "execution_finish_time": "2021-12-17T06:41:22.6130703Z",
              "execution_start_time": "2021-12-17T06:41:07.9675042Z",
              "livy_statement_state": "available",
              "queued_time": "2021-12-17T06:40:26.1058315Z",
              "session_id": 6,
              "session_start_time": null,
              "spark_pool": "sparkpool01",
              "state": "finished",
              "statement_id": 3
            },
            "text/plain": [
              "StatementMeta(sparkpool01, 6, 3, Finished, Available)"
            ]
          },
          "metadata": {},
          "output_type": "display_data"
        }
      ],
      "source": [
        "mssparkutils.fs.mount( \n",
        "    \"abfss://bronze@xxxxxxxxxx.dfs.core.windows.net\", \n",
        "    \"/mydata\", \n",
        "    {\"linkedService\":\"xxxxxxx-synapse-01-WorkspaceDefaultStorage\"} \n",
        ")\n",
        "job_id = mssparkutils.env.getJobId()\n",
        "bronze_mount_point = f\"synfs:/{job_id}/mydata/archive.zip\""
      ]
    },
    {
      "cell_type": "code",
      "execution_count": 12,
      "metadata": {
        "jupyter": {
          "outputs_hidden": false,
          "source_hidden": false
        },
        "nteract": {
          "transient": {
            "deleting": false
          }
        }
      },
      "outputs": [
        {
          "data": {
            "application/vnd.livy.statement-meta+json": {
              "execution_finish_time": "2021-12-17T06:56:47.4642184Z",
              "execution_start_time": "2021-12-17T06:56:47.2931736Z",
              "livy_statement_state": "available",
              "queued_time": "2021-12-17T06:56:47.1731247Z",
              "session_id": 6,
              "session_start_time": null,
              "spark_pool": "sparkpool01",
              "state": "finished",
              "statement_id": 12
            },
            "text/plain": [
              "StatementMeta(sparkpool01, 6, 12, Finished, Available)"
            ]
          },
          "metadata": {},
          "output_type": "display_data"
        }
      ],
      "source": [
        "cosmosEndpoint = \"https://ebcbin5oofjcs.documents.azure.com:443/\"\n",
        "cosmosMasterKey = \"xxxxxxxxxxx\"\n",
        "cosmosDatabaseName = \"database01\"\n",
        "cosmosContainerName = \"graph01\"\n",
        "\n",
        "cfg = {\n",
        "  \"spark.cosmos.accountEndpoint\" : cosmosEndpoint,\n",
        "  \"spark.cosmos.accountKey\" : cosmosMasterKey,\n",
        "  \"spark.cosmos.database\" : cosmosDatabaseName,\n",
        "  \"spark.cosmos.container\" : cosmosContainerName,\n",
        "}\n",
        "# Configure Catalog Api to be used\n",
        "spark.conf.set(\"spark.sql.catalog.cosmosCatalog\", \"com.azure.cosmos.spark.CosmosCatalog\")\n",
        "spark.conf.set(\"spark.sql.catalog.cosmosCatalog.spark.cosmos.accountEndpoint\", cosmosEndpoint)\n",
        "spark.conf.set(\"spark.sql.catalog.cosmosCatalog.spark.cosmos.accountKey\", cosmosMasterKey)\n",
        "\n",
        "def write_to_cosmos_graph(df: DataFrame, data_type: str, save: True):\n",
        "    if (save):\n",
        "        cosmos_vertices_df.write.format(\"delta\").mode(\"overwrite\").save(f\"synfs:/{job_id}/mydata/{data_type}\")\n",
        "    df.write\\\n",
        "   .format(\"cosmos.oltp\")\\\n",
        "   .options(**cfg)\\\n",
        "   .mode(\"APPEND\")\\\n",
        "   .save()"
      ]
    },
    {
      "cell_type": "code",
      "execution_count": 4,
      "metadata": {
        "jupyter": {
          "outputs_hidden": false,
          "source_hidden": false
        },
        "nteract": {
          "transient": {
            "deleting": false
          }
        }
      },
      "outputs": [
        {
          "data": {
            "application/vnd.livy.statement-meta+json": {
              "execution_finish_time": "2021-12-17T06:41:59.9915348Z",
              "execution_start_time": "2021-12-17T06:41:22.7094207Z",
              "livy_statement_state": "available",
              "queued_time": "2021-12-17T06:40:30.9553379Z",
              "session_id": 6,
              "session_start_time": null,
              "spark_pool": "sparkpool01",
              "state": "finished",
              "statement_id": 4
            },
            "text/plain": [
              "StatementMeta(sparkpool01, 6, 4, Finished, Available)"
            ]
          },
          "metadata": {},
          "output_type": "display_data"
        }
      ],
      "source": [
        "raw_data = spark.read.format('delta').load(bronze_mount_point)"
      ]
    },
    {
      "cell_type": "code",
      "execution_count": 5,
      "metadata": {
        "jupyter": {
          "outputs_hidden": false,
          "source_hidden": false
        },
        "nteract": {
          "transient": {
            "deleting": false
          }
        }
      },
      "outputs": [
        {
          "data": {
            "application/vnd.livy.statement-meta+json": {
              "execution_finish_time": "2021-12-17T06:42:00.6023203Z",
              "execution_start_time": "2021-12-17T06:42:00.0890641Z",
              "livy_statement_state": "available",
              "queued_time": "2021-12-17T06:40:33.3288089Z",
              "session_id": 6,
              "session_start_time": null,
              "spark_pool": "sparkpool01",
              "state": "finished",
              "statement_id": 5
            },
            "text/plain": [
              "StatementMeta(sparkpool01, 6, 5, Finished, Available)"
            ]
          },
          "metadata": {},
          "output_type": "display_data"
        }
      ],
      "source": [
        "# Create vertices based on activity and num of transaction made from raw data\n",
        "nameOrig = raw_data.select(\"nameOrig\")\n",
        "nameDest = raw_data.select(\"nameDest\")\n",
        "busy_accounts = nameOrig.union(nameDest).withColumnRenamed('nameOrig','id')\n",
        "top_account_activity = busy_accounts.groupBy('id').count().filter(F.col('count') > 10 ).select('id')\n",
        "top_account_amount = raw_data.filter(F.col('amount') > 500000)\n",
        "nameOrigA = top_account_amount.select('nameOrig')\n",
        "nameDestA = top_account_amount.select('nameDest')\n",
        "top_account_transact = nameOrigA.union(nameDestA).withColumnRenamed('nameOrig','id').distinct().select('id')\n",
        "vertices = top_account_activity.union(top_account_transact).distinct()\n",
        "cosmos_vertices_df = vertices.withColumn('label',F.lit('account')).withColumn('accountId',vertices['id']).\\\n",
        "select(\"label\",\"id\",\"accountId\")"
      ]
    },
    {
      "cell_type": "code",
      "execution_count": 8,
      "metadata": {
        "jupyter": {
          "outputs_hidden": false,
          "source_hidden": false
        },
        "nteract": {
          "transient": {
            "deleting": false
          }
        }
      },
      "outputs": [
        {
          "data": {
            "application/vnd.livy.statement-meta+json": {
              "execution_finish_time": "2021-12-17T06:42:56.4589185Z",
              "execution_start_time": "2021-12-17T06:42:55.9461511Z",
              "livy_statement_state": "available",
              "queued_time": "2021-12-17T06:42:55.8370806Z",
              "session_id": 6,
              "session_start_time": null,
              "spark_pool": "sparkpool01",
              "state": "finished",
              "statement_id": 8
            },
            "text/plain": [
              "StatementMeta(sparkpool01, 6, 8, Finished, Available)"
            ]
          },
          "metadata": {},
          "output_type": "display_data"
        }
      ],
      "source": [
        "# Get transactions from the above vertices( source or desination)\n",
        "transactions_nameOrig = raw_data.join(vertices, raw_data['nameOrig'] == vertices['id'])\n",
        "transactions_nameDest = raw_data.join(vertices, raw_data['nameDest'] == vertices['id'])\n",
        "edges = transactions_nameOrig.union(transactions_nameDest).select(\"type\",\"amount\",\"nameOrig\",\"nameDest\",\"oldbalanceOrg\",\"newbalanceOrig\",\"oldbalanceDest\",\"newbalanceDest\")\n",
        "cosmos_edges_df = edges.withColumn(\"label\",raw_data['type']).\\\n",
        "withColumn('accountId',raw_data['nameOrig']).\\\n",
        "withColumnRenamed('nameOrig','_vertexId').\\\n",
        "withColumn('_sinkPartition',raw_data['nameDest']).\\\n",
        "withColumnRenamed('nameDest',\"_sink\").\\\n",
        "withColumn('_sinkLabel',F.lit(\"account\")).\\\n",
        "withColumn('_vertexLabel',F.lit(\"account\")).\\\n",
        "withColumn('_isEdge',f_bool()).\\\n",
        "withColumn('id', f_uuid()).\\\n",
        "select(\"id\",\"label\",\"_sink\",\"_sinkLabel\",\"_sinkPartition\",\"_vertexId\",\"_vertexLabel\",\"_isEdge\",\"accountId\",\"type\",\"amount\",\"oldbalanceOrg\",\"oldbalanceDest\",\"newbalanceDest\")"
      ]
    },
    {
      "cell_type": "code",
      "execution_count": 9,
      "metadata": {
        "jupyter": {
          "outputs_hidden": false,
          "source_hidden": false
        },
        "nteract": {
          "transient": {
            "deleting": false
          }
        }
      },
      "outputs": [
        {
          "data": {
            "application/vnd.livy.statement-meta+json": {
              "execution_finish_time": "2021-12-17T06:44:46.0796719Z",
              "execution_start_time": "2021-12-17T06:42:59.7508707Z",
              "livy_statement_state": "available",
              "queued_time": "2021-12-17T06:42:59.655765Z",
              "session_id": 6,
              "session_start_time": null,
              "spark_pool": "sparkpool01",
              "state": "finished",
              "statement_id": 9
            },
            "text/plain": [
              "StatementMeta(sparkpool01, 6, 9, Finished, Available)"
            ]
          },
          "metadata": {},
          "output_type": "display_data"
        },
        {
          "name": "stdout",
          "output_type": "stream",
          "text": [
            "Number of Accounts/Vertices: 20, Number of transactions/Edges: 10"
          ]
        }
      ],
      "source": [
        "# # Create test data set to verify vertices and edges are being created correctly\n",
        "# cosmos_edges_df_test = cosmos_edges_df.limit(10)\n",
        "# source = cosmos_edges_df_test.select('_vertexId')\n",
        "# dest = cosmos_edges_df_test.select('_sink')\n",
        "# tmp = source.union(dest).distinct().withColumnRenamed('_vertexId','id').withColumn('label',F.lit('account'))\n",
        "# cosmos_vertices_df_test = tmp.withColumn('accountId',tmp['id']).select(\"label\",\"id\",\"accountId\")\n",
        "# print(f\"Number of Accounts/Vertices: {cosmos_vertices_df_test.count()}, Number of transactions/Edges: {cosmos_edges_df_test.count()}\")\n",
        "# write_to_cosmos_graph(cosmos_vertices_df_test,\"vertices\",False)\n",
        "# write_to_cosmos_graph(cosmos_edges_df.\"edges\",False)"
      ]
    },
    {
      "cell_type": "code",
      "execution_count": 14,
      "metadata": {
        "jupyter": {
          "outputs_hidden": false,
          "source_hidden": false
        },
        "nteract": {
          "transient": {
            "deleting": false
          }
        }
      },
      "outputs": [
        {
          "data": {
            "application/vnd.livy.statement-meta+json": {
              "execution_finish_time": "2021-12-17T07:45:44.2345753Z",
              "execution_start_time": "2021-12-17T06:58:45.6725949Z",
              "livy_statement_state": "available",
              "queued_time": "2021-12-17T06:58:45.5739605Z",
              "session_id": 6,
              "session_start_time": null,
              "spark_pool": "sparkpool01",
              "state": "finished",
              "statement_id": 14
            },
            "text/plain": [
              "StatementMeta(sparkpool01, 6, 14, Finished, Available)"
            ]
          },
          "metadata": {},
          "output_type": "display_data"
        }
      ],
      "source": [
        "write_to_cosmos_graph(cosmos_vertices_df,\"vertices\",True)\n",
        "write_to_cosmos_graph(cosmos_edges_df,\"edges\",True)"
      ]
    }
  ],
  "metadata": {
    "kernel_info": {
      "name": "synapse_pyspark"
    },
    "kernelspec": {
      "display_name": "Synapse PySpark",
      "language": "Python",
      "name": "synapse_pyspark"
    },
    "language_info": {
      "name": "python"
    },
    "save_output": true,
    "synapse_widget": {
      "state": {},
      "version": "0.1"
    }
  },
  "nbformat": 4,
  "nbformat_minor": 2
}
